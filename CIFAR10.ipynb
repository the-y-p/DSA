{
  "nbformat": 4,
  "nbformat_minor": 0,
  "metadata": {
    "colab": {
      "name": "CIFAR10.ipynb",
      "provenance": [],
      "authorship_tag": "ABX9TyOY9HIaSmcOopJzrWdeD37t",
      "include_colab_link": true
    },
    "kernelspec": {
      "name": "python3",
      "display_name": "Python 3"
    },
    "language_info": {
      "name": "python"
    }
  },
  "cells": [
    {
      "cell_type": "markdown",
      "metadata": {
        "id": "view-in-github",
        "colab_type": "text"
      },
      "source": [
        "<a href=\"https://colab.research.google.com/github/the-y-p/DSA/blob/main/CIFAR10.ipynb\" target=\"_parent\"><img src=\"https://colab.research.google.com/assets/colab-badge.svg\" alt=\"Open In Colab\"/></a>"
      ]
    },
    {
      "cell_type": "code",
      "metadata": {
        "id": "viXAUbvkWcZl"
      },
      "source": [
        "import tensorflow as tf\n",
        "from tensorflow.keras import datasets, layers, models\n",
        "import matplotlib.pyplot as plt\n",
        "import numpy as np\n",
        "from sklearn.metrics import confusion_matrix, classification_report"
      ],
      "execution_count": 40,
      "outputs": []
    },
    {
      "cell_type": "code",
      "metadata": {
        "colab": {
          "base_uri": "https://localhost:8080/"
        },
        "id": "E4CGT4JYWttA",
        "outputId": "b4334853-1da6-48cd-d627-5fccd6b96ae2"
      },
      "source": [
        "(x_train, y_train) , (x_test, y_test) = datasets.cifar10.load_data()\n",
        "x_train.shape"
      ],
      "execution_count": 3,
      "outputs": [
        {
          "output_type": "stream",
          "name": "stdout",
          "text": [
            "Downloading data from https://www.cs.toronto.edu/~kriz/cifar-10-python.tar.gz\n",
            "170500096/170498071 [==============================] - 13s 0us/step\n",
            "170508288/170498071 [==============================] - 13s 0us/step\n"
          ]
        },
        {
          "output_type": "execute_result",
          "data": {
            "text/plain": [
              "(50000, 32, 32, 3)"
            ]
          },
          "metadata": {},
          "execution_count": 3
        }
      ]
    },
    {
      "cell_type": "code",
      "metadata": {
        "colab": {
          "base_uri": "https://localhost:8080/"
        },
        "id": "KGo59cUmXAuu",
        "outputId": "e01b943a-39fd-47a9-adda-eabf48aefe6b"
      },
      "source": [
        "x_test.shape"
      ],
      "execution_count": 4,
      "outputs": [
        {
          "output_type": "execute_result",
          "data": {
            "text/plain": [
              "(10000, 32, 32, 3)"
            ]
          },
          "metadata": {},
          "execution_count": 4
        }
      ]
    },
    {
      "cell_type": "code",
      "metadata": {
        "colab": {
          "base_uri": "https://localhost:8080/"
        },
        "id": "F20ksM5vXFg7",
        "outputId": "f2c4d6d2-a829-4ce0-b912-2938ec12f762"
      },
      "source": [
        "x_train[0]"
      ],
      "execution_count": 5,
      "outputs": [
        {
          "output_type": "execute_result",
          "data": {
            "text/plain": [
              "array([[[ 59,  62,  63],\n",
              "        [ 43,  46,  45],\n",
              "        [ 50,  48,  43],\n",
              "        ...,\n",
              "        [158, 132, 108],\n",
              "        [152, 125, 102],\n",
              "        [148, 124, 103]],\n",
              "\n",
              "       [[ 16,  20,  20],\n",
              "        [  0,   0,   0],\n",
              "        [ 18,   8,   0],\n",
              "        ...,\n",
              "        [123,  88,  55],\n",
              "        [119,  83,  50],\n",
              "        [122,  87,  57]],\n",
              "\n",
              "       [[ 25,  24,  21],\n",
              "        [ 16,   7,   0],\n",
              "        [ 49,  27,   8],\n",
              "        ...,\n",
              "        [118,  84,  50],\n",
              "        [120,  84,  50],\n",
              "        [109,  73,  42]],\n",
              "\n",
              "       ...,\n",
              "\n",
              "       [[208, 170,  96],\n",
              "        [201, 153,  34],\n",
              "        [198, 161,  26],\n",
              "        ...,\n",
              "        [160, 133,  70],\n",
              "        [ 56,  31,   7],\n",
              "        [ 53,  34,  20]],\n",
              "\n",
              "       [[180, 139,  96],\n",
              "        [173, 123,  42],\n",
              "        [186, 144,  30],\n",
              "        ...,\n",
              "        [184, 148,  94],\n",
              "        [ 97,  62,  34],\n",
              "        [ 83,  53,  34]],\n",
              "\n",
              "       [[177, 144, 116],\n",
              "        [168, 129,  94],\n",
              "        [179, 142,  87],\n",
              "        ...,\n",
              "        [216, 184, 140],\n",
              "        [151, 118,  84],\n",
              "        [123,  92,  72]]], dtype=uint8)"
            ]
          },
          "metadata": {},
          "execution_count": 5
        }
      ]
    },
    {
      "cell_type": "code",
      "metadata": {
        "colab": {
          "base_uri": "https://localhost:8080/"
        },
        "id": "JqGse5G_Y2Gh",
        "outputId": "083bb802-ebaa-4477-9eef-26fc31429fe7"
      },
      "source": [
        "y_train = y_train.reshape(-1)\n",
        "y_train[:5]"
      ],
      "execution_count": 6,
      "outputs": [
        {
          "output_type": "execute_result",
          "data": {
            "text/plain": [
              "array([6, 9, 9, 4, 1], dtype=uint8)"
            ]
          },
          "metadata": {},
          "execution_count": 6
        }
      ]
    },
    {
      "cell_type": "code",
      "metadata": {
        "id": "3RHjImMAXf5q"
      },
      "source": [
        "classes = [\"Airplane\",\"automobile\",'bird','cat','deer','dog','frog','horse','ship','truck']"
      ],
      "execution_count": 7,
      "outputs": []
    },
    {
      "cell_type": "code",
      "metadata": {
        "id": "RfNeb97dXI2x"
      },
      "source": [
        "def plot_sample(x, y, index):\n",
        "  plt.figure(figsize=(4,4))\n",
        "  plt.imshow(x[index])\n",
        "  plt.xlabel(classes[y[index]])"
      ],
      "execution_count": 101,
      "outputs": []
    },
    {
      "cell_type": "code",
      "metadata": {
        "colab": {
          "base_uri": "https://localhost:8080/",
          "height": 280
        },
        "id": "j1XNQAUSYKJp",
        "outputId": "8b20a153-539a-42e3-887f-afb6b6f829fb"
      },
      "source": [
        "plot_sample(x_train, y_train , 4)"
      ],
      "execution_count": 102,
      "outputs": [
        {
          "output_type": "display_data",
          "data": {
            "image/png": "[encoded data removed]",
            "text/plain": [
              "<Figure size 288x288 with 1 Axes>"
            ]
          },
          "metadata": {
            "needs_background": "light"
          }
        }
      ]
    },
    {
      "cell_type": "code",
      "metadata": {
        "id": "VhgNb5jZZ8Iy"
      },
      "source": [
        "x_train = x_train /255.0\n",
        "x_test = x_test /255.0"
      ],
      "execution_count": 10,
      "outputs": []
    },
    {
      "cell_type": "code",
      "metadata": {
        "colab": {
          "base_uri": "https://localhost:8080/"
        },
        "id": "yA-2iA7vaFyj",
        "outputId": "30d89fa0-6edf-4b06-d196-b1721ad3c797"
      },
      "source": [
        "ann = models.Sequential([\n",
        "      layers.Flatten(input_shape=(32,32,3)),\n",
        "      layers.Dense(3000, activation='relu'),\n",
        "      layers.Dense(1000, activation='relu'),\n",
        "      layers.Dense(10, activation='sigmoid')\n",
        "])\n",
        "\n",
        "ann.compile(optimizer='SGD',\n",
        "              loss='sparse_categorical_crossentropy',\n",
        "              metrics = ['accuracy'])\n",
        "ann.fit(x_train, y_train , epochs=5)"
      ],
      "execution_count": 11,
      "outputs": [
        {
          "output_type": "stream",
          "name": "stdout",
          "text": [
            "Epoch 1/5\n",
            "1563/1563 [==============================] - 122s 78ms/step - loss: 1.8152 - accuracy: 0.3533\n",
            "Epoch 2/5\n",
            "1563/1563 [==============================] - 122s 78ms/step - loss: 1.6237 - accuracy: 0.4247\n",
            "Epoch 3/5\n",
            "1563/1563 [==============================] - 122s 78ms/step - loss: 1.5425 - accuracy: 0.4563\n",
            "Epoch 4/5\n",
            "1563/1563 [==============================] - 124s 79ms/step - loss: 1.4816 - accuracy: 0.4797\n",
            "Epoch 5/5\n",
            "1563/1563 [==============================] - 123s 78ms/step - loss: 1.4336 - accuracy: 0.4961\n"
          ]
        },
        {
          "output_type": "execute_result",
          "data": {
            "text/plain": [
              "<keras.callbacks.History at 0x7fbba298b1d0>"
            ]
          },
          "metadata": {},
          "execution_count": 11
        }
      ]
    },
    {
      "cell_type": "code",
      "metadata": {
        "id": "3yJ1C0qvebcw"
      },
      "source": [
        "cnn = models.Sequential([\n",
        "      #cnn\n",
        "      layers.Conv2D(filters=16, kernel_size=(3,3), activation = 'relu'),\n",
        "      layers.MaxPooling2D((2,2)),\n",
        "\n",
        "      layers.Conv2D(filters=32, kernel_size=(3,3), activation = 'relu'),\n",
        "      layers.MaxPooling2D((2,2)),\n",
        "\n",
        "      layers.Conv2D(filters=64, kernel_size=(3,3), activation = 'relu'),\n",
        "      layers.MaxPooling2D((2,2)),\n",
        "      #dense\n",
        "      layers.Flatten(),\n",
        "      layers.Dense(1000, activation='relu'),\n",
        "      layers.Dense(100, activation='relu'),\n",
        "      layers.Dense(10, activation='softmax')\n",
        "])\n"
      ],
      "execution_count": 46,
      "outputs": []
    },
    {
      "cell_type": "code",
      "metadata": {
        "id": "knc8nWX4iNel"
      },
      "source": [
        "cnn.compile(optimizer='adam',\n",
        "            loss='sparse_categorical_crossentropy',\n",
        "            metrics =['accuracy'])"
      ],
      "execution_count": 47,
      "outputs": []
    },
    {
      "cell_type": "code",
      "metadata": {
        "colab": {
          "base_uri": "https://localhost:8080/"
        },
        "id": "150AzliSiseB",
        "outputId": "9ceb761e-1a5f-4c3b-9aef-50ef2dc8f0c1"
      },
      "source": [
        "cnn.fit(x_train, y_train, epochs=15)"
      ],
      "execution_count": 48,
      "outputs": [
        {
          "output_type": "stream",
          "name": "stdout",
          "text": [
            "Epoch 1/15\n",
            "1563/1563 [==============================] - 55s 35ms/step - loss: 1.5403 - accuracy: 0.4336\n",
            "Epoch 2/15\n",
            "1563/1563 [==============================] - 54s 34ms/step - loss: 1.1969 - accuracy: 0.5736\n",
            "Epoch 3/15\n",
            "1563/1563 [==============================] - 52s 33ms/step - loss: 1.0490 - accuracy: 0.6281\n",
            "Epoch 4/15\n",
            "1563/1563 [==============================] - 51s 32ms/step - loss: 0.9439 - accuracy: 0.6647\n",
            "Epoch 5/15\n",
            "1563/1563 [==============================] - 51s 32ms/step - loss: 0.8585 - accuracy: 0.6972\n",
            "Epoch 6/15\n",
            "1563/1563 [==============================] - 50s 32ms/step - loss: 0.7778 - accuracy: 0.7269\n",
            "Epoch 7/15\n",
            "1563/1563 [==============================] - 51s 32ms/step - loss: 0.7075 - accuracy: 0.7510\n",
            "Epoch 8/15\n",
            "1563/1563 [==============================] - 50s 32ms/step - loss: 0.6425 - accuracy: 0.7713\n",
            "Epoch 9/15\n",
            "1563/1563 [==============================] - 50s 32ms/step - loss: 0.5781 - accuracy: 0.7957\n",
            "Epoch 10/15\n",
            "1563/1563 [==============================] - 51s 32ms/step - loss: 0.5147 - accuracy: 0.8160\n",
            "Epoch 11/15\n",
            "1563/1563 [==============================] - 50s 32ms/step - loss: 0.4619 - accuracy: 0.8316\n",
            "Epoch 12/15\n",
            "1563/1563 [==============================] - 50s 32ms/step - loss: 0.4083 - accuracy: 0.8522\n",
            "Epoch 13/15\n",
            "1563/1563 [==============================] - 51s 33ms/step - loss: 0.3590 - accuracy: 0.8697\n",
            "Epoch 14/15\n",
            "1563/1563 [==============================] - 51s 33ms/step - loss: 0.3149 - accuracy: 0.8864\n",
            "Epoch 15/15\n",
            "1563/1563 [==============================] - 51s 33ms/step - loss: 0.2851 - accuracy: 0.8968\n"
          ]
        },
        {
          "output_type": "execute_result",
          "data": {
            "text/plain": [
              "<keras.callbacks.History at 0x7fbb9a0489d0>"
            ]
          },
          "metadata": {},
          "execution_count": 48
        }
      ]
    },
    {
      "cell_type": "code",
      "source": [
        "import pickle"
      ],
      "metadata": {
        "id": "3dV2h2VDMieF"
      },
      "execution_count": 81,
      "outputs": []
    },
    {
      "cell_type": "code",
      "source": [
        "with open('model_pickle','wb') as f:\n",
        "  pickle.dump(cnn,f)"
      ],
      "metadata": {
        "colab": {
          "base_uri": "https://localhost:8080/"
        },
        "id": "-LNsAf_EMr0A",
        "outputId": "c8db6a26-02dd-4fc0-98da-790926e8a5b5"
      },
      "execution_count": 82,
      "outputs": [
        {
          "output_type": "stream",
          "name": "stdout",
          "text": [
            "INFO:tensorflow:Assets written to: ram://948a7eb7-ab77-485e-834d-5d56750ddd9c/assets\n"
          ]
        }
      ]
    },
    {
      "cell_type": "code",
      "source": [
        "with open('model_pickle','rb') as f:\n",
        "  mp = pickle.load(f)"
      ],
      "metadata": {
        "id": "6TML5XWVNGEY"
      },
      "execution_count": 88,
      "outputs": []
    },
    {
      "cell_type": "code",
      "source": [
        "mp.evaluate(x_test,y_test)"
      ],
      "metadata": {
        "colab": {
          "base_uri": "https://localhost:8080/"
        },
        "id": "FSSWM5DOODw9",
        "outputId": "fd225772-2ad2-4af2-af3e-8d441521b0df"
      },
      "execution_count": 89,
      "outputs": [
        {
          "output_type": "stream",
          "name": "stdout",
          "text": [
            "313/313 [==============================] - 4s 11ms/step - loss: 1.3128 - accuracy: 0.6807\n"
          ]
        },
        {
          "output_type": "execute_result",
          "data": {
            "text/plain": [
              "[1.312786340713501, 0.6807000041007996]"
            ]
          },
          "metadata": {},
          "execution_count": 89
        }
      ]
    },
    {
      "cell_type": "code",
      "source": [
        "cnn.evaluate(x_test,y_test)"
      ],
      "metadata": {
        "colab": {
          "base_uri": "https://localhost:8080/"
        },
        "id": "eufGyemh58GS",
        "outputId": "4bb08eef-96c9-4b70-f0c9-b8861b70c98a"
      },
      "execution_count": 49,
      "outputs": [
        {
          "output_type": "stream",
          "name": "stdout",
          "text": [
            "313/313 [==============================] - 3s 11ms/step - loss: 1.3128 - accuracy: 0.6807\n"
          ]
        },
        {
          "output_type": "execute_result",
          "data": {
            "text/plain": [
              "[1.312786340713501, 0.6807000041007996]"
            ]
          },
          "metadata": {},
          "execution_count": 49
        }
      ]
    },
    {
      "cell_type": "code",
      "source": [
        "y_test=y_test.reshape(-1)\n",
        "y_test[:5]"
      ],
      "metadata": {
        "colab": {
          "base_uri": "https://localhost:8080/"
        },
        "id": "_sSyoZMS6f0N",
        "outputId": "f3349804-179e-48be-9c2a-5bd49fc913b6"
      },
      "execution_count": 50,
      "outputs": [
        {
          "output_type": "execute_result",
          "data": {
            "text/plain": [
              "array([3, 8, 8, 0, 6], dtype=uint8)"
            ]
          },
          "metadata": {},
          "execution_count": 50
        }
      ]
    },
    {
      "cell_type": "code",
      "source": [
        "plot_sample(x_test,y_test,1)"
      ],
      "metadata": {
        "colab": {
          "base_uri": "https://localhost:8080/",
          "height": 280
        },
        "id": "mYwN9PcB6ldM",
        "outputId": "6f4412db-6953-40f2-a6fd-c53dc5c0d667"
      },
      "execution_count": 51,
      "outputs": [
        {
          "output_type": "display_data",
          "data": {
            "image/png": "[encoded data removed]",
            "text/plain": [
              "<Figure size 288x288 with 1 Axes>"
            ]
          },
          "metadata": {
            "needs_background": "light"
          }
        }
      ]
    },
    {
      "cell_type": "code",
      "source": [
        "y_pred = mp.predict(x_test)\n",
        "y_pred[:5]"
      ],
      "metadata": {
        "colab": {
          "base_uri": "https://localhost:8080/"
        },
        "id": "lhchBFGR7Ywu",
        "outputId": "5b4d034a-dc64-4ba1-cedf-249f97d68aa9"
      },
      "execution_count": 90,
      "outputs": [
        {
          "output_type": "execute_result",
          "data": {
            "text/plain": [
              "array([[3.9173447e-05, 1.3485549e-05, 1.0817451e-03, 2.6534283e-01,\n",
              "        3.9236690e-04, 7.1876341e-01, 1.3606855e-02, 5.8344862e-04,\n",
              "        1.7243749e-04, 4.3110217e-06],\n",
              "       [2.0825905e-04, 2.8791857e-07, 3.2087517e-09, 4.0190394e-12,\n",
              "        2.2753675e-09, 1.5654170e-13, 1.3150716e-13, 9.7103011e-13,\n",
              "        9.9979085e-01, 6.2503580e-07],\n",
              "       [3.8881205e-02, 1.5497452e-01, 1.2859240e-03, 4.9713015e-04,\n",
              "        9.1574284e-06, 1.2750288e-04, 9.4143697e-06, 1.9304878e-05,\n",
              "        7.0754933e-01, 9.6646562e-02],\n",
              "       [9.9826896e-01, 4.5609824e-10, 7.5102973e-05, 2.6681957e-06,\n",
              "        4.8675101e-06, 1.6830402e-09, 1.3112267e-11, 2.6465465e-09,\n",
              "        1.6483169e-03, 6.9309053e-08],\n",
              "       [7.2993984e-08, 6.7435082e-07, 1.4570714e-02, 6.4902000e-02,\n",
              "        7.4782431e-01, 9.4953814e-04, 1.7175150e-01, 4.3895790e-07,\n",
              "        1.7523143e-07, 5.7689908e-07]], dtype=float32)"
            ]
          },
          "metadata": {},
          "execution_count": 90
        }
      ]
    },
    {
      "cell_type": "code",
      "source": [
        "y_classes = [np.argmax(element) for element in y_pred]\n",
        "y_classes[:5]"
      ],
      "metadata": {
        "colab": {
          "base_uri": "https://localhost:8080/"
        },
        "id": "0cdMI3El7lp9",
        "outputId": "a98417ae-2784-4bde-c50f-ae3c5c1a4c63"
      },
      "execution_count": 53,
      "outputs": [
        {
          "output_type": "execute_result",
          "data": {
            "text/plain": [
              "[5, 8, 8, 0, 4]"
            ]
          },
          "metadata": {},
          "execution_count": 53
        }
      ]
    },
    {
      "cell_type": "code",
      "source": [
        "y_test[:5]"
      ],
      "metadata": {
        "colab": {
          "base_uri": "https://localhost:8080/"
        },
        "id": "3zadjrGU8Say",
        "outputId": "29d262a3-80dc-4c31-c0a1-9b3705709051"
      },
      "execution_count": 54,
      "outputs": [
        {
          "output_type": "execute_result",
          "data": {
            "text/plain": [
              "array([3, 8, 8, 0, 6], dtype=uint8)"
            ]
          },
          "metadata": {},
          "execution_count": 54
        }
      ]
    },
    {
      "cell_type": "code",
      "source": [
        ""
      ],
      "metadata": {
        "id": "Fc-s3mSg89RA"
      },
      "execution_count": null,
      "outputs": []
    },
    {
      "cell_type": "code",
      "source": [
        "plot_sample(x_test,y_test,4)"
      ],
      "metadata": {
        "colab": {
          "base_uri": "https://localhost:8080/",
          "height": 280
        },
        "outputId": "5ec8f5dd-f3c9-4b88-8409-51197c5f8388",
        "id": "Iuptm73A9C1E"
      },
      "execution_count": 91,
      "outputs": [
        {
          "output_type": "display_data",
          "data": {
            "image/png": "[encoded data removed]",
            "text/plain": [
              "<Figure size 288x288 with 1 Axes>"
            ]
          },
          "metadata": {
            "needs_background": "light"
          }
        }
      ]
    },
    {
      "cell_type": "code",
      "source": [
        "classes[y_classes[4]]"
      ],
      "metadata": {
        "colab": {
          "base_uri": "https://localhost:8080/",
          "height": 35
        },
        "id": "OKYLTQVF9Gs0",
        "outputId": "652bef55-b7ca-4c25-9c31-4d27d41e1ea1"
      },
      "execution_count": 92,
      "outputs": [
        {
          "output_type": "execute_result",
          "data": {
            "application/vnd.google.colaboratory.intrinsic+json": {
              "type": "string"
            },
            "text/plain": [
              "'deer'"
            ]
          },
          "metadata": {},
          "execution_count": 92
        }
      ]
    },
    {
      "cell_type": "code",
      "source": [
        "print(\"Classification Report : \\n \", classification_report(y_test,y_classes))"
      ],
      "metadata": {
        "colab": {
          "base_uri": "https://localhost:8080/"
        },
        "id": "7Wz_lP3H9n8Q",
        "outputId": "c62e3289-9a84-4c2d-8314-7276beea338a"
      },
      "execution_count": 57,
      "outputs": [
        {
          "output_type": "stream",
          "name": "stdout",
          "text": [
            "Classification Report : \n",
            "                precision    recall  f1-score   support\n",
            "\n",
            "           0       0.73      0.71      0.72      1000\n",
            "           1       0.80      0.81      0.80      1000\n",
            "           2       0.63      0.53      0.58      1000\n",
            "           3       0.47      0.53      0.50      1000\n",
            "           4       0.63      0.65      0.64      1000\n",
            "           5       0.52      0.62      0.57      1000\n",
            "           6       0.72      0.78      0.75      1000\n",
            "           7       0.85      0.61      0.71      1000\n",
            "           8       0.76      0.82      0.79      1000\n",
            "           9       0.77      0.75      0.76      1000\n",
            "\n",
            "    accuracy                           0.68     10000\n",
            "   macro avg       0.69      0.68      0.68     10000\n",
            "weighted avg       0.69      0.68      0.68     10000\n",
            "\n"
          ]
        }
      ]
    },
    {
      "cell_type": "code",
      "source": [
        "for i in range(10):\n",
        "  plot_sample(x_test,y_test,i)\n",
        "  print(\"Predicted o/p : \"+str(classes[y_classes[i]]))"
      ],
      "metadata": {
        "colab": {
          "base_uri": "https://localhost:8080/",
          "height": 1000
        },
        "id": "4zXPPHa3HFA5",
        "outputId": "e50961c3-9b47-410d-a196-adc1dfb188c2"
      },
      "execution_count": 93,
      "outputs": [
        {
          "output_type": "stream",
          "name": "stdout",
          "text": [
            "Predicted o/p : dog\n",
            "Predicted o/p : ship\n",
            "Predicted o/p : ship\n",
            "Predicted o/p : Airplane\n",
            "Predicted o/p : deer\n",
            "Predicted o/p : frog\n",
            "Predicted o/p : automobile\n",
            "Predicted o/p : frog\n",
            "Predicted o/p : cat\n",
            "Predicted o/p : truck\n"
          ]
        },
        {
          "output_type": "display_data",
          "data": {
            "image/png": "[encoded data removed]",
            "text/plain": [
              "<Figure size 288x288 with 1 Axes>"
            ]
          },
          "metadata": {
            "needs_background": "light"
          }
        },
        {
          "output_type": "display_data",
          "data": {
            "image/png": "[encoded data removed]",
            "text/plain": [
              "<Figure size 288x288 with 1 Axes>"
            ]
          },
          "metadata": {
            "needs_background": "light"
          }
        },
        {
          "output_type": "display_data",
          "data": {
            "image/png": "[encoded data removed]",
            "text/plain": [
              "<Figure size 288x288 with 1 Axes>"
            ]
          },
          "metadata": {
            "needs_background": "light"
          }
        },
        {
          "output_type": "display_data",
          "data": {
            "image/png": "[encoded data removed]",
            "text/plain": [
              "<Figure size 288x288 with 1 Axes>"
            ]
          },
          "metadata": {
            "needs_background": "light"
          }
        },
        {
          "output_type": "display_data",
          "data": {
            "image/png": "[encoded data removed]",
            "text/plain": [
              "<Figure size 288x288 with 1 Axes>"
            ]
          },
          "metadata": {
            "needs_background": "light"
          }
        },
        {
          "output_type": "display_data",
          "data": {
            "image/png": "[encoded data removed]",
            "text/plain": [
              "<Figure size 288x288 with 1 Axes>"
            ]
          },
          "metadata": {
            "needs_background": "light"
          }
        },
        {
          "output_type": "display_data",
          "data": {
            "image/png": "[encoded data removed]",
            "text/plain": [
              "<Figure size 288x288 with 1 Axes>"
            ]
          },
          "metadata": {
            "needs_background": "light"
          }
        },
        {
          "output_type": "display_data",
          "data": {
            "image/png": "[encoded data removed]",
            "text/plain": [
              "<Figure size 288x288 with 1 Axes>"
            ]
          },
          "metadata": {
            "needs_background": "light"
          }
        },
        {
          "output_type": "display_data",
          "data": {
            "image/png": "[encoded data removed]",
            "text/plain": [
              "<Figure size 288x288 with 1 Axes>"
            ]
          },
          "metadata": {
            "needs_background": "light"
          }
        },
        {
          "output_type": "display_data",
          "data": {
            "image/png": "[encoded data removed]",
            "text/plain": [
              "<Figure size 288x288 with 1 Axes>"
            ]
          },
          "metadata": {
            "needs_background": "light"
          }
        }
      ]
    },
    {
      "cell_type": "code",
      "source": [
        "import tensorflow as tf\n",
        "from tensorflow.keras import datasets, layers, models\n",
        "import matplotlib.pyplot as plt\n",
        "import pickle\n",
        "import os\n",
        "import numpy as np\n",
        "import time\n",
        "from sklearn.metrics import confusion_matrix, classification_report\n",
        "\n",
        "\n",
        "\n",
        "def plot_sample(x, y, index):\n",
        "  classes = [\"Aeroplane\", \"automobile\", 'bird', 'cat', 'deer', 'dog', 'frog', 'horse', 'ship', 'truck']\n",
        "  plt.figure(figsize=(4,4))\n",
        "  plt.imshow(x[index])\n",
        "  plt.xlabel(classes[int(y[index])])\n",
        "  plt.show()\n",
        "\n",
        "def is_model_saved():\n",
        "  if os.path.isfile('saved_model'):\n",
        "    with open('saved_model','rb') as f:\n",
        "      mp = pickle.load(f)\n",
        "    return mp\n",
        "  else:\n",
        "    \n",
        "\n",
        "    cnn = models.Sequential([\n",
        "      # cnn\n",
        "      layers.Conv2D(filters=16, kernel_size=(3, 3), activation='relu'),\n",
        "      layers.MaxPooling2D((2, 2)),\n",
        "\n",
        "      layers.Conv2D(filters=32, kernel_size=(3, 3), activation='relu'),\n",
        "      layers.MaxPooling2D((2, 2)),\n",
        "\n",
        "      layers.Conv2D(filters=64, kernel_size=(3, 3), activation='relu'),\n",
        "      layers.MaxPooling2D((2, 2)),\n",
        "      # dense\n",
        "      layers.Flatten(),\n",
        "      layers.Dense(1000, activation='relu'),\n",
        "      layers.Dense(100, activation='relu'),\n",
        "      layers.Dense(10, activation='softmax')\n",
        "    ])\n",
        "\n",
        "    cnn.compile(optimizer='adam',\n",
        "                loss='sparse_categorical_crossentropy',\n",
        "                metrics=['accuracy'])\n",
        "\n",
        "    cnn.fit(x_train, y_train, epochs=15)\n",
        "\n",
        "    with open('saved_model','wb') as f:\n",
        "      pickle.dump(cnn,f)\n",
        "    return cnn\n",
        "\n",
        "\n",
        "def pred(x_test,y_test,index):\n",
        "  start = time.time()\n",
        "  model = is_model_saved()\n",
        "  y_test = y_test.reshape(-1)\n",
        "  y_pred = model.predict(x_test)\n",
        "  y_classes = [np.argmax(element) for element in y_pred]\n",
        "  plot_sample(x_test,y_test,index)\n",
        "  print(classes[y_classes[index]])\n",
        "  end = time.time()\n",
        "  print(\"total-time :\",end-start)\n",
        "\n",
        "if __name__ == '__main__':\n",
        "  (x_train, y_train), (x_test, y_test) = datasets.cifar10.load_data()\n",
        "\n",
        "  y_train = y_train.reshape(-1)\n",
        "  x_train = x_train / 255.0\n",
        "  x_test = x_test / 255.0\n",
        "\n",
        "  classes = [\"Aeroplane\", \"automobile\", 'bird', 'cat', 'deer', 'dog', 'frog', 'horse', 'ship', 'truck']\n",
        "\n",
        "  pred(x_test,y_test,181)\n",
        "\n"
      ],
      "metadata": {
        "colab": {
          "base_uri": "https://localhost:8080/",
          "height": 315
        },
        "id": "V0Tz4NsSYx4g",
        "outputId": "e3f7a392-a88f-48ff-d77c-2db51e11a833"
      },
      "execution_count": 120,
      "outputs": [
        {
          "output_type": "display_data",
          "data": {
            "image/png": "[encoded data removed]",
            "text/plain": [
              "<Figure size 288x288 with 1 Axes>"
            ]
          },
          "metadata": {
            "needs_background": "light"
          }
        },
        {
          "output_type": "stream",
          "name": "stdout",
          "text": [
            "dog\n",
            "total-time : 4.406388998031616\n"
          ]
        }
      ]
    }
  ]
}